{
 "cells": [
  {
   "cell_type": "markdown",
   "id": "6f36ba35-4420-4003-9b01-09ffe7aa6fef",
   "metadata": {},
   "source": [
    "**Load the Dataset**"
   ]
  },
  {
   "cell_type": "code",
   "execution_count": 1,
   "id": "8a6c56ac-2ba7-45ee-9efe-5b74caeea4f8",
   "metadata": {},
   "outputs": [],
   "source": [
    "import pandas as pd"
   ]
  },
  {
   "cell_type": "code",
   "execution_count": 2,
   "id": "39bbb555-e474-4f09-b15c-46f83fc0fee6",
   "metadata": {},
   "outputs": [],
   "source": [
    "# Load the dataset\n",
    "df = pd.read_csv(\"DataFiles/phishing_data_urls.csv\")"
   ]
  },
  {
   "cell_type": "code",
   "execution_count": 3,
   "id": "dfe8b437-c685-4deb-9ff1-fdadbdedbdf5",
   "metadata": {},
   "outputs": [
    {
     "name": "stdout",
     "output_type": "stream",
     "text": [
      "Index(['url', 'status'], dtype='object')\n"
     ]
    }
   ],
   "source": [
    "print(df.columns)"
   ]
  },
  {
   "cell_type": "code",
   "execution_count": 4,
   "id": "d7c82507-76e2-4089-8e6b-fb26695a473a",
   "metadata": {},
   "outputs": [
    {
     "name": "stdout",
     "output_type": "stream",
     "text": [
      "                                       url  status\n",
      "0  0000111servicehelpdesk.godaddysites.com       0\n",
      "1     000011accesswebform.godaddysites.com       0\n",
      "2                             00003.online       0\n",
      "3      0009servicedeskowa.godaddysites.com       0\n",
      "4                     000n38p.wcomhost.com       0\n",
      "status\n",
      "1    427028\n",
      "0    394982\n",
      "Name: count, dtype: int64\n"
     ]
    }
   ],
   "source": [
    "# Preview data\n",
    "print(df.head())\n",
    "print(df['status'].value_counts())"
   ]
  },
  {
   "cell_type": "markdown",
   "id": "55658d07-4bd1-4e15-bbcd-0dc7f53695ee",
   "metadata": {},
   "source": [
    "**Data Cleaning**"
   ]
  },
  {
   "cell_type": "code",
   "execution_count": null,
   "id": "0f336a73-e416-44c5-967c-c7cfbfc30ad6",
   "metadata": {},
   "outputs": [],
   "source": [
    "# Drop nulls and duplicates\n",
    "df.dropna(inplace=True)\n",
    "df.drop_duplicates(inplace=True)\n",
    "\n",
    "# Optional: Basic URL format validation\n",
    "import re\n",
    "\n",
    "def is_valid_url(url):\n",
    "    regex = re.compile(\n",
    "        r'^(https?://)?'  # optional http or https\n",
    "        r'([\\da-z\\.-]+)\\.([a-z\\.]{2,6})'  # domain name\n",
    "        r'([/\\w \\.-]*)*/?$'  # rest of the URL\n",
    "    )\n",
    "    return re.match(regex, url) is not None\n",
    "\n",
    "df = df[df['url'].apply(is_valid_url)]\n"
   ]
  },
  {
   "cell_type": "markdown",
   "id": "5f816008-5f40-4f8c-9bac-2368ba78e89e",
   "metadata": {},
   "source": [
    "**Save Cleaned Data**"
   ]
  },
  {
   "cell_type": "code",
   "execution_count": null,
   "id": "76afedb6-baae-473e-a113-55f75d2fa326",
   "metadata": {},
   "outputs": [],
   "source": [
    "# Save cleaned dataset\n",
    "df.to_csv(\"cleaned_phishing_dataset.csv\", index=False)"
   ]
  },
  {
   "cell_type": "code",
   "execution_count": null,
   "id": "7ff0e39f-15a4-40da-9483-0dce7b67c76c",
   "metadata": {},
   "outputs": [],
   "source": []
  }
 ],
 "metadata": {
  "kernelspec": {
   "display_name": "Python 3 (ipykernel)",
   "language": "python",
   "name": "python3"
  },
  "language_info": {
   "codemirror_mode": {
    "name": "ipython",
    "version": 3
   },
   "file_extension": ".py",
   "mimetype": "text/x-python",
   "name": "python",
   "nbconvert_exporter": "python",
   "pygments_lexer": "ipython3",
   "version": "3.12.3"
  }
 },
 "nbformat": 4,
 "nbformat_minor": 5
}
